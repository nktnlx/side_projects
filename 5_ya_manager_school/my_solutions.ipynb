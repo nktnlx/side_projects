{
 "cells": [
  {
   "cell_type": "markdown",
   "metadata": {},
   "source": [
    "#### Школа Менеджеров Яндекса"
   ]
  },
  {
   "cell_type": "markdown",
   "metadata": {},
   "source": [
    "##### Продуктовая аналитика"
   ]
  },
  {
   "cell_type": "markdown",
   "metadata": {},
   "source": [
    "###### Задача 1"
   ]
  },
  {
   "cell_type": "markdown",
   "metadata": {},
   "source": [
    "Между офисами Яндекса в Москва-Сити, Красной Розе и Авроре курсируют шаттлы для сотрудников. Предположим, что есть 3 автобуса, по одному в каждом офисе. За день они делают только 2 рейса: в 9:00 и в 19:00. Вечерний рейс автобус совершает из того офиса, куда он приехал во время утреннего. Маршрут, по которому поедет дальше автобус, определяется в момент отправления исходя из количества заинтересованных пассажиров. В половине случаев в голосовании побеждают сотрудники одного офиса, в остальных случаях — другого. Даже если после утреннего рейса в каком-то офисе оказалось 2 шаттла, голосование в них проходит независимо друг от друга, то есть они оба могут поехать дальше по одному маршруту. Какова вероятность, что после вечернего рейса в каком-либо офисе окажутся два шаттла?"
   ]
  },
  {
   "cell_type": "code",
   "execution_count": 8,
   "metadata": {},
   "outputs": [
    {
     "name": "stdout",
     "output_type": "stream",
     "text": [
      "Число всех возможных исходов: 18\n",
      "Число исходов два шаттла в одном офисе после вечернего рейса: 12\n",
      "Вероятность два шаттла в одном офисе после вечернего рейса: 66.67%\n"
     ]
    }
   ],
   "source": [
    "# изначальное расположение шаттлов\n",
    "m = ['M', 'K', 'A']\n",
    "\n",
    "# возможные расположения шаттлов после утренних рейсов\n",
    "e = []\n",
    "for i in m:\n",
    "    m_cp = m.copy()\n",
    "    m_cp.remove(i)\n",
    "    for k in m_cp:\n",
    "        e.append(i+k)\n",
    "\n",
    "# возможные расположения шаттлов после вечерних рейсов\n",
    "n = []\n",
    "for i in e:\n",
    "    m_cp = m.copy()\n",
    "    m_cp.remove(i[-1])\n",
    "    for k in m_cp:\n",
    "        n.append(i+k)\n",
    "        \n",
    "# возможные расположения шаттлов после вечерних рейсов (только варианты два шаттла в одном офисе)\n",
    "last_stop = []\n",
    "for i in n:\n",
    "    for k in n:\n",
    "        if k[-1] == i[-1] and k != i:\n",
    "            last_stop.append([i, k])\n",
    "            break\n",
    "            \n",
    "# подсчет исходов и вероятности\n",
    "all_outcomes = len(e) + len(n)\n",
    "suitable_outcomes = len(last_stop)\n",
    "p = suitable_outcomes / all_outcomes\n",
    "\n",
    "# вывод результатов\n",
    "print(f'''Число всех возможных исходов: {all_outcomes}\n",
    "Число исходов два шаттла в одном офисе после вечернего рейса: {suitable_outcomes}\n",
    "Вероятность два шаттла в одном офисе после вечернего рейса: {p:.2%}''')"
   ]
  },
  {
   "cell_type": "code",
   "execution_count": null,
   "metadata": {},
   "outputs": [],
   "source": []
  },
  {
   "cell_type": "markdown",
   "metadata": {},
   "source": [
    "###### Задача 2"
   ]
  },
  {
   "cell_type": "markdown",
   "metadata": {},
   "source": [
    "Яндекс запустил программу Плюс, которая позволяет копить кэшбек за пользование разными сервисами. Система работает как подписка, которая имеет срок действия, но может быть продлена.\n",
    "\n",
    "Напишите SQL-запрос, чтобы посчитать количество пользователей, у которых доля покупок с активной подпиской составляет больше 80% от общего числа их заказов.\n",
    "\n",
    "Структура таблиц:\n",
    "\n",
    "market_orders\n",
    "\n",
    "• order_id – ID заказа на Яндекс.Маркете\n",
    "\n",
    "• utc_creation_dttm – дата создания заказа в формате YYYY-MM-DD hh:mm:ss\n",
    "\n",
    "• user_id – ID пользователя\n",
    "\n",
    "active_plus\n",
    "\n",
    "• user_id – ID пользователя\n",
    "\n",
    "• utc_dttm_from – дата в формате YYYY-MM-DD hh:mm:ss, начиная с которой подписка Плюс была активна\n",
    "\n",
    "• utc_dttm_to – дата в формате YYYY-MM-DD hh:mm:ss, до которой подписка Плюс была активна\n",
    "\n",
    "Гарантируется, что промежутки, когда подписка была активна, не пересекаются\n"
   ]
  },
  {
   "cell_type": "code",
   "execution_count": 9,
   "metadata": {},
   "outputs": [],
   "source": [
    "# SQL запрос\n",
    "WITH all_p AS \n",
    "(\n",
    "SELECT\n",
    "    user_id,\n",
    "    CAST(COUNT (order_id) AS real) AS purchases_cnt\n",
    "FROM market_orders\n",
    "GROUP by user_id\n",
    "), plus_p AS\n",
    "(\n",
    "SELECT\n",
    "    m.user_id,\n",
    "    CAST(COUNT (order_id) AS real) AS purchases_cnt\n",
    "FROM market_orders AS M\n",
    "LEFT JOIN active_plus AS a \n",
    "    ON m.user_id = a.user_id\n",
    "WHERE m.utc_creation_dttm \n",
    "    BETWEEN a.utc_dttm_from AND a.utc_dttm_to\n",
    "GROUP by m.user_id\n",
    ")\n",
    "\n",
    "SELECT\n",
    "    COUNT(plus_p.user_id) AS users_cnt_above_80_percent\n",
    "FROM plus_p\n",
    "LEFT JOIN all_p\n",
    "    ON plus_p.user_id = all_p.user_id\n",
    "WHERE plus_p.purchases_cnt / all_p.purchases_cnt > 0.8"
   ]
  },
  {
   "cell_type": "code",
   "execution_count": null,
   "metadata": {},
   "outputs": [],
   "source": []
  },
  {
   "cell_type": "markdown",
   "metadata": {},
   "source": [
    "###### Задача 3"
   ]
  },
  {
   "cell_type": "markdown",
   "metadata": {},
   "source": [
    "Напишите Python-функцию для проверки качества пароля в Яндекс.Почте. Хорошим считается пароль, который соответствует условиям:\n",
    "\n",
    "    длина не менее 7 символов,\n",
    "    содержит хотя бы 1 цифру,\n",
    "    содержит хотя бы 1 букву верхнего регистра,\n",
    "    содержит хотя бы 1 букву нижнего регистра,\n",
    "    содержит только латинские буквы и цифры,\n",
    "    не содержит повторяющиеся символы.\n",
    "\n"
   ]
  },
  {
   "cell_type": "code",
   "execution_count": 10,
   "metadata": {},
   "outputs": [
    {
     "data": {
      "text/plain": [
       "'Congratulations! Your password looks great.'"
      ]
     },
     "execution_count": 10,
     "metadata": {},
     "output_type": "execute_result"
    }
   ],
   "source": [
    "from string import ascii_letters\n",
    "from string import digits\n",
    "\n",
    "\n",
    "def password_checker(psw):\n",
    "    symbols = list(psw)  # преобразование в список символов\n",
    "    \n",
    "    # серия проверок\n",
    "    len_check = True if len(psw) > 7 else False  # проверка длины пароля\n",
    "    digit = True if any([i.isdigit() for i in symbols]) else False  # проверка хотя бы 1 цифры\n",
    "    upper = True if any([i.isupper() for i in symbols]) else False  # проверка буквы верхнего регистра\n",
    "    lower = True if any([i.islower() for i in symbols]) else False  # проверка буквы нижнего регистра\n",
    "    conditions = [len_check, digit, upper, lower]  # собираем результаты проверок\n",
    "    \n",
    "    # проверка по первым четырем условиям\n",
    "    if not all(conditions):\n",
    "        return 'Please, improve your password. You can do better!'\n",
    "    \n",
    "    # проверка на только латинские буквы и цифры И на повторяющиеся символы\n",
    "    tmp = []\n",
    "    for i in symbols:\n",
    "        if i in ascii_letters or i in digits:  # проверка на только латинские буквы и цифры\n",
    "            if i not in tmp:   # проверка на повторяющиеся символы\n",
    "                tmp.append(i)\n",
    "            else:\n",
    "                return 'Please, improve your password. You can do better!'\n",
    "        else:\n",
    "            return 'Please, improve your password. You can do better!'\n",
    "    \n",
    "    # возвращаем сообщение, если пароль удовлетворяет всем условиям проверок\n",
    "    return 'Congratulations! Your password looks great.'\n",
    "            \n",
    "    \n",
    "password_checker('hj5789Jgf')"
   ]
  },
  {
   "cell_type": "code",
   "execution_count": null,
   "metadata": {},
   "outputs": [],
   "source": []
  },
  {
   "cell_type": "markdown",
   "metadata": {},
   "source": [
    "###### Задача 4"
   ]
  },
  {
   "cell_type": "markdown",
   "metadata": {},
   "source": [
    "Коллеги Антон и Андрей живут в Москве и ездят на Такси. Антон пользуется тарифом UberX в Uber.Russia, а Андрей — тарифом Эконом в Яндекс.Go. Живут коллеги в соседних домах в 16,5 км от офиса. Каждый раз, когда они заказывают такси из офиса домой, цена их поездок оказывается разной: то у Антона дешевле, то у Андрея. Аналитик Саша подсказал, что, хотя сервисы являются продуктами одной компании, тарификация за минуту и километр в пути у них разная. Проверьте, как это влияет на стоимость поездки, и покажите, в каких случаях цена у Андрея выше, чем у Антона.\n",
    "Допустим, что повышающего коэффициента не существует."
   ]
  },
  {
   "cell_type": "code",
   "execution_count": 11,
   "metadata": {},
   "outputs": [
    {
     "name": "stdout",
     "output_type": "stream",
     "text": [
      "На дорогах пробки, средняя скорость движения по городу 60 км/ч.\n",
      "Поездка на UBER дешевле на 4.0 рублей.\n",
      "\n",
      "На дорогах пробки, средняя скорость движения по городу 61 км/ч.\n",
      "Поездка на UBER дешевле на 2.92 рублей.\n",
      "\n",
      "На дорогах пробки, средняя скорость движения по городу 62 км/ч.\n",
      "Поездка на UBER дешевле на 1.87 рублей.\n",
      "\n",
      "На дорогах пробки, средняя скорость движения по городу 63 км/ч.\n",
      "Поездка на UBER дешевле на 0.85 рублей.\n",
      "\n",
      "Город свободен, средняя скорость движения по городу 64 км/ч.\n",
      "Поездка на Yandex Go выгоднее на 0.12 рублей.\n",
      "\n",
      "Город свободен, средняя скорость движения по городу 65 км/ч.\n",
      "Поездка на Yandex Go выгоднее на 1.07 рублей.\n",
      "\n",
      "Город свободен, средняя скорость движения по городу 66 км/ч.\n",
      "Поездка на Yandex Go выгоднее на 2.0 рублей.\n",
      "\n",
      "Город свободен, средняя скорость движения по городу 67 км/ч.\n",
      "Поездка на Yandex Go выгоднее на 2.9 рублей.\n",
      "\n",
      "Город свободен, средняя скорость движения по городу 68 км/ч.\n",
      "Поездка на Yandex Go выгоднее на 3.76 рублей.\n",
      "\n",
      "Город свободен, средняя скорость движения по городу 69 км/ч.\n",
      "Поездка на Yandex Go выгоднее на 4.61 рублей.\n",
      "\n"
     ]
    }
   ],
   "source": [
    "DIST = 16.5  # расстояние офис-дом\n",
    "\n",
    "# расчитываем стоимость поездки для тарифов UBER\n",
    "def uber_price(dist, speed):\n",
    "    # тарифный план Uber\n",
    "    UBER_BASIC_PRICE = 129\n",
    "    UBER_MIN_INC = 5\n",
    "    UBER_KM_INC = 4\n",
    "    UBER_MIN_RUB = 6\n",
    "    UBER_KM_RUB = 12\n",
    "    \n",
    "    # подсчет минут и км не включенных в базовую стоимость по тарифу\n",
    "    uber_dist_payed = dist - UBER_KM_INC\n",
    "    uber_min_payed = dist / (speed / 60) - UBER_MIN_INC\n",
    "    \n",
    "    # подсчет общей стоиомости поездки\n",
    "    uber_total_price = UBER_BASIC_PRICE + uber_dist_payed * UBER_KM_RUB + uber_min_payed * UBER_MIN_RUB\n",
    "\n",
    "    return round(uber_total_price, 2)\n",
    "\n",
    "\n",
    "# расчитываем стоимость поездки для тарифов GO\n",
    "def go_price(dist, speed):\n",
    "    # тарифный план Go\n",
    "    GO_BASIC_PRICE = 139\n",
    "    GO_MIN_INC = 6\n",
    "    GO_KM_INC = 3\n",
    "    GO_MIN_RUB = 10\n",
    "    GO_KM_RUB = 8\n",
    "\n",
    "    # подсчет минут и км не включенных в базовую стоимость по тарифу\n",
    "    go_dist_payed = dist - GO_KM_INC\n",
    "    go_min_payed = dist / (speed / 60) - GO_MIN_INC\n",
    "\n",
    "    # подсчет общей стоиомости поездки\n",
    "    go_total_price = GO_BASIC_PRICE + go_dist_payed * GO_KM_RUB + go_min_payed * GO_MIN_RUB\n",
    "\n",
    "    return round(go_total_price, 2)\n",
    "\n",
    "\n",
    "# тестируем диапазон скоростей движения по городу (от 60 до 70 км/ч)\n",
    "for velocity in range(60, 70):\n",
    "    if uber_price(DIST, velocity) < go_price(DIST, velocity):\n",
    "        print(f'''На дорогах пробки, средняя скорость движения по городу {velocity} км/ч.\n",
    "Поездка на UBER дешевле на {round(abs(uber_price(DIST, velocity) - go_price(DIST, velocity)), 2)} рублей.\\n''')\n",
    "    else:\n",
    "        print(f'''Город свободен, средняя скорость движения по городу {velocity} км/ч.\n",
    "Поездка на Yandex Go выгоднее на {round(abs(uber_price(DIST, velocity) - go_price(DIST, velocity)), 2)} рублей.\\n''')"
   ]
  },
  {
   "cell_type": "code",
   "execution_count": null,
   "metadata": {},
   "outputs": [],
   "source": []
  },
  {
   "cell_type": "markdown",
   "metadata": {},
   "source": [
    "###### Задача 5"
   ]
  },
  {
   "cell_type": "markdown",
   "metadata": {},
   "source": [
    "Яндекс.Музыка проводит офлайн-фестиваль самых популярных исполнителей жанра техно. Чтобы привлечь пользователей на мероприятие, маркетолог Иван должен разослать email пользователям Музыки. Отправка одного письма стоит 10 рублей, а цена билета составляет 700 рублей. Как бы вы посоветовали Ивану сформировать выборку для отправки, учитывая логи прослушиваний пользователей Яндекс.Музыки?\n",
    "\n",
    "Обозначения в таблице:\n",
    "\n",
    "    audition_id – ID прослушивания в логе\n",
    "\n",
    "    utc_audition_start_dttm – дата начала прослушивания в формате YYYY-MM-DD hh:mm:ss\n",
    "\n",
    "    utc_audition_end_dttm – дата окончания прослушивания в формате YYYY-MM-DD hh:mm:ss\n",
    "\n",
    "    user_id – ID пользователя Яндекс.Музыки\n",
    "\n",
    "    track_id – ID трека Яндекс.Музыки\n",
    "\n",
    "    track_duration – продолжительность трека в секундах\n",
    "\n",
    "    track_genre – жанр трека\n",
    "\n"
   ]
  },
  {
   "cell_type": "code",
   "execution_count": 12,
   "metadata": {},
   "outputs": [],
   "source": [
    "# импорт библиотеки pandas\n",
    "import pandas as pd"
   ]
  },
  {
   "cell_type": "code",
   "execution_count": 13,
   "metadata": {},
   "outputs": [],
   "source": [
    "# загрузим логи прослушиваний из файла\n",
    "df = pd.read_csv('music_data.zip', compression='zip', parse_dates=['utc_audition_end_dttm', 'utc_audition_start_dttm'])"
   ]
  },
  {
   "cell_type": "code",
   "execution_count": 14,
   "metadata": {},
   "outputs": [],
   "source": [
    "# посчитаем и добавим в датафрейм длительность прослушивания в секундах\n",
    "df['duration'] = (df.utc_audition_end_dttm - df.utc_audition_start_dttm).dt.total_seconds()"
   ]
  },
  {
   "cell_type": "code",
   "execution_count": 15,
   "metadata": {},
   "outputs": [],
   "source": [
    "# отберем только треки жанра TECHNO\n",
    "df_techno = df[df['track_genre'] == 'TECHNO']"
   ]
  },
  {
   "cell_type": "code",
   "execution_count": 16,
   "metadata": {},
   "outputs": [],
   "source": [
    "# посчитаем общую длительность прослушивания треков жанра TECHNO с группировкой по пользователям\n",
    "df_users = df_techno.groupby('user_id').agg({'duration': 'sum'})"
   ]
  },
  {
   "cell_type": "code",
   "execution_count": 17,
   "metadata": {},
   "outputs": [],
   "source": [
    "# определим нижнюю границу выбросов значений (1.5*IQR, что соотетствует 2.698*sigma)\n",
    "outliers_lower_boundary = df_users.duration.median() - 2.698 * df_users.duration.std()"
   ]
  },
  {
   "cell_type": "code",
   "execution_count": 18,
   "metadata": {},
   "outputs": [],
   "source": [
    "# отберем пользователей выше 'нижней границы выбросов' значений длительности прослушивания\n",
    "df_user_email = df_users.query('duration > @outliers_lower_boundary')"
   ]
  },
  {
   "cell_type": "code",
   "execution_count": 19,
   "metadata": {},
   "outputs": [],
   "source": [
    "# cохраняем список ID пользователей Яндекс.Музыки для рассылки\n",
    "user_ids_list = df_user_email.index.to_list()"
   ]
  },
  {
   "cell_type": "code",
   "execution_count": 20,
   "metadata": {},
   "outputs": [
    {
     "name": "stdout",
     "output_type": "stream",
     "text": [
      "Отобрали 1726 пользователей для рассылки.\n",
      "Стоимость рассылки составит 17260 рублей.\n",
      "При конверсии рассылки 5.00% ROI составит 250.00%.\n"
     ]
    }
   ],
   "source": [
    "# стоимости рассылки и билетов\n",
    "ticket = 700\n",
    "email = 10\n",
    "conversion_rate = 0.05  # предположим конверсию 5% (уточнить у Ивана)\n",
    "return_ = conversion_rate * len(user_ids_list) * ticket\n",
    "invest = email * len(user_ids_list)\n",
    "roi = (return_ - invest) / invest\n",
    "\n",
    "# отчет\n",
    "print(f'''Отобрали {len(user_ids_list)} пользователей для рассылки.\n",
    "Стоимость рассылки составит {email * len(user_ids_list)} рублей.\n",
    "При конверсии рассылки {conversion_rate:.2%} ROI составит {roi:.2%}.''')"
   ]
  }
 ],
 "metadata": {
  "kernelspec": {
   "display_name": "Python 3",
   "language": "python",
   "name": "python3"
  },
  "language_info": {
   "codemirror_mode": {
    "name": "ipython",
    "version": 3
   },
   "file_extension": ".py",
   "mimetype": "text/x-python",
   "name": "python",
   "nbconvert_exporter": "python",
   "pygments_lexer": "ipython3",
   "version": "3.7.6"
  }
 },
 "nbformat": 4,
 "nbformat_minor": 4
}
