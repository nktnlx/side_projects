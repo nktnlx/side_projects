{
 "cells": [
  {
   "cell_type": "markdown",
   "metadata": {},
   "source": [
    "TFS board with tasks:  \n",
    "https://vk.com/board123851409"
   ]
  },
  {
   "cell_type": "code",
   "execution_count": null,
   "metadata": {},
   "outputs": [],
   "source": []
  },
  {
   "cell_type": "markdown",
   "metadata": {},
   "source": [
    "ОТБОРОЧНОЕ ИСПЫТАНИЕ В ЛАБОРАТОРИЮ АНАЛИТИКИ:  \n",
    "https://edu.tinkoff.ru/course/128/program"
   ]
  },
  {
   "cell_type": "markdown",
   "metadata": {},
   "source": [
    "**Задача 1**  \n",
    "Пусть G - полный двудольный граф с долями, состоящими из 300 и 500 вершин соответственно. В какое минимальное количество красок можно покрасить ребра и вершины G так, что нет:\n",
    "- вершин одного цвета, соединенных ребром;\n",
    "- ребер одного цвета, выходящих из одной вершины;\n",
    "- вершины и ребра одного цвета таких, что это ребро выходит из данной вершины."
   ]
  },
  {
   "cell_type": "markdown",
   "metadata": {},
   "source": [
    "**Мое решение для задачи 1:**  \n",
    "1) \"нет вершин одного цвета, соединенных ребром\" \n",
    "По определению  у полного двудольного графа вершины можно разбить на две части(доли), таким образом, чтобы вершины одной части были соединены ребрами с вершинами из другой части. Раз мы имеем две разные части вершин, то нам будет достаточно иметь количество красок равное количеству долей, чтобы выполнить это условие, т.е. 2 разные краски. Например, в одной доле  все вершины желтые, а в другой, все вершины черные.\n",
    "\n",
    "2). \"нет ребер одного цвета, выходящих из одной вершины;\"\n",
    "У нашего графа имеется 500 вершин в одной доле и 300 вершин в другой доле, т.к. это полный двудольный граф, то каждая вершина из одной доли соединена ребрами со всеми вершинами другой доли. Таким образом в случае для 300 вершин в одной доле и 500 вершин в другой доле мы имеем по 500 ребер, выходящих из каждой из трехсот вершин. Минимальное количество красок для 500 ребер, чтобы выполнялось условие об окраске в разные цвета будет равно 500.\n",
    "\n",
    "3). \"нет вершины и ребра одного цвета таких, что это ребро выходит из данной вершины.\" \n",
    "Так как из вершины в  нашем случае может выходить 500 ребер, то для выполнения данного условия нам необходимо иметь 500 ребер разных цветов и еще один отличный цвет для самой вершины, т.е. общее количество цветов будет равняться 501.\n",
    "\n",
    "Для единовременного выполнения всех вышеперечисленных условий нам необходимо выбрать максимальное число красок из получившихся ответов, т.е. max(2, 500, 501) = 501.\n",
    "\n",
    "Ответ: 501"
   ]
  },
  {
   "cell_type": "code",
   "execution_count": null,
   "metadata": {},
   "outputs": [],
   "source": []
  },
  {
   "cell_type": "markdown",
   "metadata": {},
   "source": [
    "**Задача 2**  \n",
    "Олег Тиньков хочет поучаствовать в длительном велотуре.\n",
    "Тур будет длиться 6 дней, но он может взять продовольствия и воды только на четыре дня. Олег хочет взять с собой друзей (каждый из которых обладает такой же грузоподъёмностью и потребляет такое же количество провизии, что и Олег).\n",
    "\n",
    "Какое наименьшее количество друзей нужно пригласить с собой Олегу, чтобы он успешно завершил тур? (Оставлять друзей на верную смерть в туре без еды и воды, естественно, Олег не будет)."
   ]
  },
  {
   "cell_type": "code",
   "execution_count": 16,
   "metadata": {},
   "outputs": [
    {
     "name": "stdout",
     "output_type": "stream",
     "text": [
      "End of of day # 1, Oleg has 3 items of supply. Num of companion(s) 0\n",
      "End of of day # 2, Oleg has 2 items of supply. Num of companion(s) 0\n",
      "End of of day # 3, Oleg has 1 items of supply. Num of companion(s) 0\n",
      "End of of day # 4, Oleg has 0 items of supply. Num of companion(s) 0\n",
      "Oleg has not enough food by the end of day 4. 0 companion(s) is not enough!\n",
      "\n",
      "End of of day # 1, Oleg has 4 items of supply. Num of companion(s) 1\n",
      "End of of day # 2, Oleg has 3 items of supply. Num of companion(s) 1\n",
      "End of of day # 3, Oleg has 2 items of supply. Num of companion(s) 1\n",
      "End of of day # 4, Oleg has 1 items of supply. Num of companion(s) 1\n",
      "End of of day # 5, Oleg has 0 items of supply. Num of companion(s) 1\n",
      "Oleg has not enough food by the end of day 5. 1 companion(s) is not enough!\n",
      "\n",
      "End of of day # 1, Oleg has 4 items of supply. Num of companion(s) 2\n",
      "End of of day # 2, Oleg has 4 items of supply. Num of companion(s) 2\n",
      "End of of day # 3, Oleg has 4 items of supply. Num of companion(s) 2\n",
      "End of of day # 4, Oleg has 3 items of supply. Num of companion(s) 2\n",
      "End of of day # 5, Oleg has 2 items of supply. Num of companion(s) 2\n",
      "End of of day # 6, Oleg has 1 items of supply. Num of companion(s) 2\n",
      "Oleg has made a 6 days tour with help of 2 companions!\n"
     ]
    }
   ],
   "source": [
    "# Решение задачи 2\n",
    "def le_tour(max_days=6, load=4):\n",
    "    oleg_load = load\n",
    "    companion = 0\n",
    "    companion_load = load * companion\n",
    "    days = 0\n",
    "    while days < max_days:\n",
    "        if oleg_load > 0:\n",
    "            companion_load -= 1\n",
    "            oleg_load -= 1\n",
    "            if companion_load >= load / 2:\n",
    "                companion_load -= 1\n",
    "                oleg_load += 1\n",
    "            days += 1\n",
    "            print(f'End of of day # {days}, Oleg has {oleg_load} items of supply. Num of companion(s) {companion}')\n",
    "        else:\n",
    "            print(f'Oleg has not enough food by the end of day {days}. {companion} companion(s) is not enough!')\n",
    "            print('')\n",
    "            companion += 1\n",
    "            days = 0\n",
    "            companion_load = load * companion\n",
    "            oleg_load = load\n",
    "    print(f'Oleg has made a {max_days} days tour with help of {companion} companions!')\n",
    "\n",
    "\n",
    "le_tour()"
   ]
  },
  {
   "cell_type": "code",
   "execution_count": null,
   "metadata": {},
   "outputs": [],
   "source": []
  },
  {
   "cell_type": "markdown",
   "metadata": {},
   "source": [
    "**Задача 3**  \n",
    "На разминке порядок людей называется некрасивым, если никакие три подряд стоящих человека не стоят по росту (ни в порядке возрастания, ни в порядке убывания).\n",
    "\n",
    "Сколько некрасивых порядков можно построить из 4 людей разного роста?"
   ]
  },
  {
   "cell_type": "code",
   "execution_count": 71,
   "metadata": {},
   "outputs": [
    {
     "name": "stdout",
     "output_type": "stream",
     "text": [
      "Количество возможных комбинаций: 24. Комбинации:\n",
      "[160, 175, 170, 165]\n",
      "[175, 165, 160, 170]\n",
      "[175, 170, 160, 165]\n",
      "[165, 170, 160, 175]\n",
      "[160, 170, 175, 165]\n",
      "[170, 165, 160, 175]\n",
      "[170, 160, 165, 175]\n",
      "[165, 175, 160, 170]\n",
      "[175, 165, 170, 160]\n",
      "[160, 175, 165, 170]\n",
      "[160, 165, 170, 175]\n",
      "[165, 160, 170, 175]\n",
      "[175, 170, 165, 160]\n",
      "[165, 170, 175, 160]\n",
      "[170, 175, 160, 165]\n",
      "[170, 165, 175, 160]\n",
      "[165, 175, 170, 160]\n",
      "[170, 175, 165, 160]\n",
      "[175, 160, 165, 170]\n",
      "[165, 160, 175, 170]\n",
      "[160, 165, 175, 170]\n",
      "[170, 160, 175, 165]\n",
      "[160, 170, 165, 175]\n",
      "[175, 160, 170, 165]\n",
      "\n",
      "\n",
      "Количество возможных некрасивых порядков: 10. Некрасивые порядки:\n",
      "[160, 175, 170, 165]\n",
      "[175, 170, 160, 165]\n",
      "[160, 165, 170, 175]\n",
      "[165, 160, 170, 175]\n",
      "[175, 170, 165, 160]\n",
      "[170, 175, 160, 165]\n",
      "[170, 175, 165, 160]\n",
      "[175, 160, 165, 170]\n",
      "[165, 160, 175, 170]\n",
      "[160, 165, 175, 170]\n"
     ]
    }
   ],
   "source": [
    "# Решение задачи 3\n",
    "import random\n",
    "\n",
    "\n",
    "# допустим мы имеем людей со следующим ростом\n",
    "lst = [160, 165, 170, 175]\n",
    "\n",
    "# сначала составим все возможные комбинации из данной последовательности роста людей\n",
    "combinations = []\n",
    "while len(combinations) < 24:\n",
    "    new_lst = random.sample(lst, len(lst))\n",
    "    if new_lst not in combinations:\n",
    "        combinations.append(new_lst)\n",
    "    else:\n",
    "        continue\n",
    "\n",
    "# сделаем вывод всех возможных комбинаций и их число:\n",
    "print(f'Количество возможных комбинаций: {len(combinations)}. Комбинации:')        \n",
    "print(*combinations, sep='\\n')\n",
    "\n",
    "print('\\n')\n",
    "\n",
    "# посчитаем и выведем на экран количество некрасивых продяков из четырех людей\n",
    "result = []\n",
    "for item in combinations:\n",
    "        if abs(item[0]-item[1]) == abs(lst[0]-lst[1]) and abs(item[2] - item[3]) == abs(lst[0]-lst[1]):\n",
    "            result.append(item)\n",
    "        if abs(item[3]-item[2]) == abs(lst[0]-lst[1]) and abs(item[2] - item[1]) == abs(lst[0]-lst[1]):\n",
    "            if item not in result:\n",
    "                result.append(item)\n",
    "\n",
    "print(f'Количество возможных некрасивых порядков: {len(result)}. Некрасивые порядки:')\n",
    "print(*result, sep='\\n')\n",
    "        "
   ]
  },
  {
   "cell_type": "code",
   "execution_count": null,
   "metadata": {},
   "outputs": [],
   "source": []
  },
  {
   "cell_type": "markdown",
   "metadata": {},
   "source": [
    "**Задача 4**  \n",
    "Сотрудниками Тинькофф разработана головоломка \"Куб Олега\". Это обычный куб 10х10х10 см, который состоит из 1000 одинаковых кубиков. Каждый из кубиков прозрачен, в каждом из них записано число, при этом сумма чисел в каждом столбике в любом из трёх направлений равна 0. В одном из кубиков записана единица. Через этот кубик проходит три слоя, параллельных сторонам куба, толщиной в один кубик.\n",
    "\n",
    "Найдите сумму всех чисел в кубиках, не лежащих в этих слоях."
   ]
  },
  {
   "cell_type": "markdown",
   "metadata": {},
   "source": [
    "**Решение задачи 4**  \n",
    "Дано:\n",
    "S = 0 - сумма чисел в каждом столбике в любом из трех направлений\n",
    "x = 1 - число в одном из кубиков\n",
    "10х10х10 - размерность куба\n",
    "\n",
    "Решение:\n",
    "Воспользуемся формулой включений и исключений для трех множеств, чтобы найти сумму всех числе в кубиках не лежащих в слоях толщиной в 1 кубик, проходящих через куб:\n",
    "|A U B U C| = |A| + |B| + |C| - |A ∩ B| - |B ∩ C| - |A ∩ C| + |A ∩ B ∩ C|\n",
    "\n",
    "В этой формуле для нашего случая:\n",
    "|A| + |B| + |C| = 0 , т.к. сумма числе в каждом столбике S равна нулю\n",
    "-(|A ∩ B| - |B ∩ C| - |A ∩ C)| = 0 - 0 - 0 = 3 * 0 , т.е. мы вычли суммы столбиков в уже учтенных на первом шагу попарных пересечениях\n",
    "+ |A ∩ B ∩ C| = 3 * 0 = 0 -- возвращаем не учтенные трехкратные пересечения \n",
    "\n",
    "и затем, чтобы получить финальный результат, из данного уравнения необходимо учесть число, находящееся в одном из кубиков. Из дано задачи мы знаем, что это число равняется единице.\n",
    "Итого имеем: 0 - 3 * 0 + 3 * 0 - 1 = 0 - 0 + 0 -1 = - 1\n",
    "\n",
    "Ответ: сумма всех чисел в кубиках, не лежащих в этих слоях будет равна - 1."
   ]
  },
  {
   "cell_type": "code",
   "execution_count": null,
   "metadata": {},
   "outputs": [],
   "source": []
  },
  {
   "cell_type": "markdown",
   "metadata": {},
   "source": [
    "ПРОБНЫЙ КОНТЕСТ  \n",
    "\n",
    "https://fintech.tinkoff.ru/contest/infinite_contest/"
   ]
  },
  {
   "cell_type": "code",
   "execution_count": null,
   "metadata": {},
   "outputs": [],
   "source": [
    "# ЗАДАЧА 1\n",
    "# На стандартном потоке ввода задаются два целых числа, не меньшие \n",
    "# -32000 и не большие 32000.\n",
    "# На стандартный поток вывода напечатайте сумму этих чисел.\n",
    "# Числа задаются по одному в строке. Пробельные символы перед числом и после\n",
    "# него отсутствуют. Пустые строки в вводе отсутствуют. "
   ]
  },
  {
   "cell_type": "code",
   "execution_count": 4,
   "metadata": {},
   "outputs": [
    {
     "name": "stdout",
     "output_type": "stream",
     "text": [
      "1\n",
      "2\n",
      "3\n"
     ]
    }
   ],
   "source": [
    "# Решение задачи 1\n",
    "print(sum(int(input()) for _ in range(2)))"
   ]
  },
  {
   "cell_type": "code",
   "execution_count": null,
   "metadata": {},
   "outputs": [],
   "source": [
    "# ЗАДАЧА 2\n",
    "# На стандартном потоке ввода задаётся последовательность целых чисел.\n",
    "# Каждое число последовательности не меньше -20000000 и не больше 20000000.\n",
    "# Всего последовательность состоит не более чем из 40 чисел.\n",
    "# Последовательность завершается признаком конца ввода.\n",
    "# На стандартный поток вывода напечатайте сумму этих чисел. "
   ]
  },
  {
   "cell_type": "code",
   "execution_count": null,
   "metadata": {},
   "outputs": [],
   "source": [
    "# Решение задачи 2\n",
    "import fileinput\n",
    "\n",
    "\n",
    "sum_ = 0\n",
    "for inp in fileinput.input():\n",
    "    nums_str = inp.split()\n",
    "    nums_int = [int(i) for i in nums_str]\n",
    "    sum_ += sum(nums_int)\n",
    "\n",
    "print(sum_)"
   ]
  },
  {
   "cell_type": "code",
   "execution_count": null,
   "metadata": {},
   "outputs": [],
   "source": []
  },
  {
   "cell_type": "markdown",
   "metadata": {},
   "source": [
    "TFS summer 2019: программирование  \n",
    "\n",
    "https://vk.com/topic-123851409_39857058"
   ]
  },
  {
   "cell_type": "markdown",
   "metadata": {},
   "source": [
    "<img src='tfs_s19_coding_task1.png'>"
   ]
  },
  {
   "cell_type": "code",
   "execution_count": 8,
   "metadata": {},
   "outputs": [
    {
     "name": "stdout",
     "output_type": "stream",
     "text": [
      "2\n",
      "5\n",
      "-3\n",
      "100\n"
     ]
    }
   ],
   "source": [
    "# Решение задачи 1\n",
    "dist = 100\n",
    "min_dist = dist\n",
    "n = int(input())\n",
    "moves = [(int(input())) for _ in range(n)]\n",
    "\n",
    "for move in moves:\n",
    "    dist += move\n",
    "    if dist < min_dist:\n",
    "        min_dist = dist\n",
    "    else:\n",
    "        continue\n",
    "\n",
    "print(min_dist)"
   ]
  },
  {
   "cell_type": "markdown",
   "metadata": {},
   "source": [
    "<img src='tfs_s19_coding_task2.png'>"
   ]
  },
  {
   "cell_type": "code",
   "execution_count": 38,
   "metadata": {},
   "outputs": [
    {
     "name": "stdout",
     "output_type": "stream",
     "text": [
      "rqtwye\n"
     ]
    }
   ],
   "source": [
    "# Решение задачи 2\n",
    "message = 'qwerty'\n",
    "\n",
    "def decode(msg):\n",
    "    lst = [*msg]\n",
    "    new_lst = []\n",
    "    for idx in range(len(lst) // 2, len(lst)):\n",
    "        new_lst.append(lst[idx])\n",
    "        new_lst.append(lst[idx - (len(lst) // 2)])\n",
    "    return ''.join(new_lst)\n",
    "\n",
    "\n",
    "print(decoded(message))"
   ]
  },
  {
   "cell_type": "code",
   "execution_count": null,
   "metadata": {},
   "outputs": [],
   "source": []
  },
  {
   "cell_type": "markdown",
   "metadata": {},
   "source": [
    "TFS spring 2019: логика  \n",
    "https://vk.com/topic-123851409_39528516"
   ]
  },
  {
   "cell_type": "markdown",
   "metadata": {},
   "source": [
    "<img src='tfs_s19_logic_task3.png'>"
   ]
  },
  {
   "cell_type": "code",
   "execution_count": 87,
   "metadata": {},
   "outputs": [
    {
     "name": "stdout",
     "output_type": "stream",
     "text": [
      "2020 505 ERDRERDRERDRERDRERDRERDRERDRERDRERDRERDRERDRERDRERDRERDRERDRERDRERDRERDRERDRERDRERDRERDRERDRERDRERDRERDRERDRERDRERDRERDRERDRERDRERDRERDRERDRERDRERDRERDRERDRERDRERDRERDRERDRERDRERDRERDRERDRERDRERDRERDRERDRERDRERDRERDRERDRERDRERDRERDRERDRERDRERDRERDRERDRERDRERDRERDRERDRERDRERDRERDRERDRERDRERDRERDRERDRERDRERDRERDRERDRERDRERDRERDRERDRERDRERDRERDRERDRERDRERDRERDRERDRERDRERDRERDRERDRERDRERDRERDRERDRERDRERDRERDRERDRERDRERDRERDRERDRERDRERDRERDRERDRERDRERDRERDRERDRERDRERDRERDRERDRERDRERDRERDRERDRERDRERDRERDRERDRERDRERDRERDRERDRERDRERDRERDRERDRERDRERDRERDRERDRERDRERDRERDRERDRERDRERDRERDRERDRERDRERDRERDRERDRERDRERDRERDRERDRERDRERDRERDRERDRERDRERDRERDRERDRERDRERDRERDRERDRERDRERDRERDRERDRERDRERDRERDRERDRERDRERDRERDRERDRERDRERDRERDRERDRERDRERDRERDRERDRERDRERDRERDRERDRERDRERDRERDRERDRERDRERDRERDRERDRERDRERDRERDRERDRERDRERDRERDRERDRERDRERDRERDRERDRERDRERDRERDRERDRERDRERDRERDRERDRERDRERDRERDRERDRERDRERDRERDRERDRERDRERDRERDRERDRERDRERDRERDRERDRERDRERDRERDRERDRERDRERDRERDRERDRERDRERDRERDRERDRERDRERDRERDRERDRERDRERDRERDRERDRERDRERDRERDRERDRERDRERDRERDRERDRERDRERDRERDRERDRERDRERDRERDRERDRERDRERDRERDRERDRERDRERDRERDRERDRERDRERDRERDRERDRERDRERDRERDRERDRERDRERDRERDRERDRERDRERDRERDRERDRERDRERDRERDRERDRERDRERDRERDRERDRERDRERDRERDRERDRERDRERDRERDRERDRERDRERDRERDRERDRERDRERDRERDRERDRERDRERDRERDRERDRERDRERDRERDRERDRERDRERDRERDRERDRERDRERDRERDRERDRERDRERDRERDRERDRERDRERDRERDRERDRERDRERDRERDRERDRERDRERDRERDRERDRERDRERDRERDRERDRERDRERDRERDRERDRERDRERDRERDRERDRERDRERDRERDRERDRERDRERDRERDRERDRERDRERDRERDRERDRERDRERDRERDRERDRERDRERDRERDRERDRERDRERDRERDRERDRERDRERDRERDRERDRERDRERDRERDRERDRERDRERDRERDRERDRERDRERDRERDRERDRERDRERDRERDRERDRERDRERDRERDRERDRERDRERDRERDRERDRERDRERDRERDRERDRERDRERDRERDRERDRERDRERDRERDRERDRERDRERDRERDRERDRERDRERDRERDRERDRERDRERDRERDRERDRERDRERDRERDRERDRERDRERDRERDRERDRERDRERDRERDRERDRERDRERDRERDRERDRERDRERDRERDRERDRERDRERDRERDRERDRERDRERDRERDRERDRERDRERDRERDRERDRERDRERDRERDRERDRERDRERDRERDRERDRERDRERDRERDRERDRERDRERDRERDRERDRERDRERDRERDRERDRERDRERDRERDRERDRERDRERDRERDRERDRERDRERDRERDRERDRERDRERDR\n"
     ]
    }
   ],
   "source": [
    "# Решение задачи 3\n",
    "s ='ERDRERDR'\n",
    "\n",
    "pack = s * 252 + 'ERDR'\n",
    "\n",
    "\n",
    "print(len(pack), pack.count('E'), pack)  # pack.count('E') - ответ на вопрос задачи"
   ]
  },
  {
   "cell_type": "code",
   "execution_count": null,
   "metadata": {},
   "outputs": [],
   "source": []
  },
  {
   "cell_type": "markdown",
   "metadata": {},
   "source": [
    "TFS spring 2019: математика  \n",
    "https://vk.com/topic-123851409_39528513"
   ]
  },
  {
   "cell_type": "markdown",
   "metadata": {},
   "source": [
    "<img src='tfs_s19_math_task5.png'>"
   ]
  },
  {
   "cell_type": "code",
   "execution_count": 131,
   "metadata": {},
   "outputs": [
    {
     "name": "stdout",
     "output_type": "stream",
     "text": [
      "Personnel overall: 10\n",
      "Personnel in bad mood: 2\n",
      "Количество поссорившихся пар: 1\n",
      "Затраты на примерение: 500\n",
      "Доход: 10000\n",
      " \n",
      "Personnel overall: 11\n",
      "Personnel in bad mood: 2\n",
      "Количество поссорившихся пар: 1\n",
      "Затраты на примерение: 500\n",
      "Доход: 11000\n",
      " \n",
      "Personnel overall: 12\n",
      "Personnel in bad mood: 2\n",
      "Количество поссорившихся пар: 1\n",
      "Затраты на примерение: 500\n",
      "Доход: 12000\n",
      " \n",
      "Personnel overall: 13\n",
      "Personnel in bad mood: 2\n",
      "Количество поссорившихся пар: 1\n",
      "Затраты на примерение: 500\n",
      "Доход: 13000\n",
      " \n",
      "Personnel overall: 14\n",
      "Personnel in bad mood: 2\n",
      "Количество поссорившихся пар: 1\n",
      "Затраты на примерение: 500\n",
      "Доход: 14000\n",
      " \n",
      "Personnel overall: 15\n",
      "Personnel in bad mood: 3\n",
      "Количество поссорившихся пар: 3\n",
      "Затраты на примерение: 1500\n",
      "Доход: 15000\n",
      " \n",
      "Personnel overall: 16\n",
      "Personnel in bad mood: 3\n",
      "Количество поссорившихся пар: 3\n",
      "Затраты на примерение: 1500\n",
      "Доход: 16000\n",
      " \n",
      "Personnel overall: 17\n",
      "Personnel in bad mood: 3\n",
      "Количество поссорившихся пар: 3\n",
      "Затраты на примерение: 1500\n",
      "Доход: 17000\n",
      " \n",
      "Personnel overall: 18\n",
      "Personnel in bad mood: 3\n",
      "Количество поссорившихся пар: 3\n",
      "Затраты на примерение: 1500\n",
      "Доход: 18000\n",
      " \n",
      "Personnel overall: 19\n",
      "Personnel in bad mood: 3\n",
      "Количество поссорившихся пар: 3\n",
      "Затраты на примерение: 1500\n",
      "Доход: 19000\n",
      " \n",
      "Personnel overall: 20\n",
      "Personnel in bad mood: 4\n",
      "Количество поссорившихся пар: 6\n",
      "Затраты на примерение: 3000\n",
      "Доход: 20000\n",
      " \n",
      "Personnel overall: 21\n",
      "Personnel in bad mood: 4\n",
      "Количество поссорившихся пар: 6\n",
      "Затраты на примерение: 3000\n",
      "Доход: 21000\n",
      " \n",
      "Personnel overall: 22\n",
      "Personnel in bad mood: 4\n",
      "Количество поссорившихся пар: 6\n",
      "Затраты на примерение: 3000\n",
      "Доход: 22000\n",
      " \n",
      "Personnel overall: 23\n",
      "Personnel in bad mood: 4\n",
      "Количество поссорившихся пар: 6\n",
      "Затраты на примерение: 3000\n",
      "Доход: 23000\n",
      " \n",
      "Personnel overall: 24\n",
      "Personnel in bad mood: 4\n",
      "Количество поссорившихся пар: 6\n",
      "Затраты на примерение: 3000\n",
      "Доход: 24000\n",
      " \n",
      "Personnel overall: 25\n",
      "Personnel in bad mood: 5\n",
      "Количество поссорившихся пар: 10\n",
      "Затраты на примерение: 5000\n",
      "Доход: 25000\n",
      " \n",
      "Personnel overall: 26\n",
      "Personnel in bad mood: 5\n",
      "Количество поссорившихся пар: 10\n",
      "Затраты на примерение: 5000\n",
      "Доход: 26000\n",
      " \n",
      "Personnel overall: 27\n",
      "Personnel in bad mood: 5\n",
      "Количество поссорившихся пар: 10\n",
      "Затраты на примерение: 5000\n",
      "Доход: 27000\n",
      " \n",
      "Personnel overall: 28\n",
      "Personnel in bad mood: 5\n",
      "Количество поссорившихся пар: 10\n",
      "Затраты на примерение: 5000\n",
      "Доход: 28000\n",
      " \n",
      "Personnel overall: 29\n",
      "Personnel in bad mood: 5\n",
      "Количество поссорившихся пар: 10\n",
      "Затраты на примерение: 5000\n",
      "Доход: 29000\n",
      " \n",
      "Personnel overall: 30\n",
      "Personnel in bad mood: 6\n",
      "Количество поссорившихся пар: 15\n",
      "Затраты на примерение: 7500\n",
      "Доход: 30000\n",
      " \n",
      "Personnel overall: 31\n",
      "Personnel in bad mood: 6\n",
      "Количество поссорившихся пар: 15\n",
      "Затраты на примерение: 7500\n",
      "Доход: 31000\n",
      " \n",
      "Personnel overall: 32\n",
      "Personnel in bad mood: 6\n",
      "Количество поссорившихся пар: 15\n",
      "Затраты на примерение: 7500\n",
      "Доход: 32000\n",
      " \n",
      "Personnel overall: 33\n",
      "Personnel in bad mood: 6\n",
      "Количество поссорившихся пар: 15\n",
      "Затраты на примерение: 7500\n",
      "Доход: 33000\n",
      " \n",
      "Personnel overall: 34\n",
      "Personnel in bad mood: 6\n",
      "Количество поссорившихся пар: 15\n",
      "Затраты на примерение: 7500\n",
      "Доход: 34000\n",
      " \n",
      "Personnel overall: 35\n",
      "Personnel in bad mood: 7\n",
      "Количество поссорившихся пар: 21\n",
      "Затраты на примерение: 10500\n",
      "Доход: 35000\n",
      " \n",
      "Personnel overall: 36\n",
      "Personnel in bad mood: 7\n",
      "Количество поссорившихся пар: 21\n",
      "Затраты на примерение: 10500\n",
      "Доход: 36000\n",
      " \n",
      "Personnel overall: 37\n",
      "Personnel in bad mood: 7\n",
      "Количество поссорившихся пар: 21\n",
      "Затраты на примерение: 10500\n",
      "Доход: 37000\n",
      " \n",
      "Personnel overall: 38\n",
      "Personnel in bad mood: 7\n",
      "Количество поссорившихся пар: 21\n",
      "Затраты на примерение: 10500\n",
      "Доход: 38000\n",
      " \n",
      "Personnel overall: 39\n",
      "Personnel in bad mood: 7\n",
      "Количество поссорившихся пар: 21\n",
      "Затраты на примерение: 10500\n",
      "Доход: 39000\n",
      " \n",
      "Personnel overall: 40\n",
      "Personnel in bad mood: 8\n",
      "Количество поссорившихся пар: 28\n",
      "Затраты на примерение: 14000\n",
      "Доход: 40000\n",
      " \n",
      "Personnel overall: 41\n",
      "Personnel in bad mood: 8\n",
      "Количество поссорившихся пар: 28\n",
      "Затраты на примерение: 14000\n",
      "Доход: 41000\n",
      " \n",
      "Personnel overall: 42\n",
      "Personnel in bad mood: 8\n",
      "Количество поссорившихся пар: 28\n",
      "Затраты на примерение: 14000\n",
      "Доход: 42000\n",
      " \n",
      "Personnel overall: 43\n",
      "Personnel in bad mood: 8\n",
      "Количество поссорившихся пар: 28\n",
      "Затраты на примерение: 14000\n",
      "Доход: 43000\n",
      " \n",
      "Personnel overall: 44\n",
      "Personnel in bad mood: 8\n",
      "Количество поссорившихся пар: 28\n",
      "Затраты на примерение: 14000\n",
      "Доход: 44000\n",
      " \n",
      "Personnel overall: 45\n",
      "Personnel in bad mood: 9\n",
      "Количество поссорившихся пар: 36\n",
      "Затраты на примерение: 18000\n",
      "Доход: 45000\n",
      " \n",
      "Personnel overall: 46\n",
      "Personnel in bad mood: 9\n",
      "Количество поссорившихся пар: 36\n",
      "Затраты на примерение: 18000\n",
      "Доход: 46000\n",
      " \n",
      "Personnel overall: 47\n",
      "Personnel in bad mood: 9\n",
      "Количество поссорившихся пар: 36\n",
      "Затраты на примерение: 18000\n",
      "Доход: 47000\n",
      " \n",
      "Personnel overall: 48\n",
      "Personnel in bad mood: 9\n",
      "Количество поссорившихся пар: 36\n",
      "Затраты на примерение: 18000\n",
      "Доход: 48000\n",
      " \n",
      "Personnel overall: 49\n",
      "Personnel in bad mood: 9\n",
      "Количество поссорившихся пар: 36\n",
      "Затраты на примерение: 18000\n",
      "Доход: 49000\n",
      " \n",
      "Personnel overall: 50\n",
      "Personnel in bad mood: 10\n",
      "Количество поссорившихся пар: 45\n",
      "Затраты на примерение: 22500\n",
      "Доход: 50000\n",
      " \n",
      "Personnel overall: 51\n",
      "Personnel in bad mood: 10\n",
      "Количество поссорившихся пар: 45\n",
      "Затраты на примерение: 22500\n",
      "Доход: 51000\n",
      " \n",
      "Personnel overall: 52\n",
      "Personnel in bad mood: 10\n",
      "Количество поссорившихся пар: 45\n",
      "Затраты на примерение: 22500\n",
      "Доход: 52000\n",
      " \n",
      "Personnel overall: 53\n",
      "Personnel in bad mood: 10\n",
      "Количество поссорившихся пар: 45\n",
      "Затраты на примерение: 22500\n",
      "Доход: 53000\n",
      " \n",
      "Personnel overall: 54\n",
      "Personnel in bad mood: 10\n",
      "Количество поссорившихся пар: 45\n",
      "Затраты на примерение: 22500\n",
      "Доход: 54000\n",
      " \n",
      "Personnel overall: 55\n",
      "Personnel in bad mood: 11\n",
      "Количество поссорившихся пар: 55\n",
      "Затраты на примерение: 27500\n",
      "Доход: 55000\n",
      " \n",
      "Personnel overall: 56\n",
      "Personnel in bad mood: 11\n",
      "Количество поссорившихся пар: 55\n",
      "Затраты на примерение: 27500\n",
      "Доход: 56000\n",
      " \n",
      "Personnel overall: 57\n",
      "Personnel in bad mood: 11\n",
      "Количество поссорившихся пар: 55\n",
      "Затраты на примерение: 27500\n",
      "Доход: 57000\n",
      " \n",
      "Personnel overall: 58\n",
      "Personnel in bad mood: 11\n",
      "Количество поссорившихся пар: 55\n",
      "Затраты на примерение: 27500\n",
      "Доход: 58000\n",
      " \n",
      "Personnel overall: 59\n",
      "Personnel in bad mood: 11\n",
      "Количество поссорившихся пар: 55\n",
      "Затраты на примерение: 27500\n",
      "Доход: 59000\n",
      " \n",
      "Personnel overall: 60\n",
      "Personnel in bad mood: 12\n",
      "Количество поссорившихся пар: 66\n",
      "Затраты на примерение: 33000\n",
      "Доход: 60000\n",
      " \n",
      "Personnel overall: 61\n",
      "Personnel in bad mood: 12\n",
      "Количество поссорившихся пар: 66\n",
      "Затраты на примерение: 33000\n",
      "Доход: 61000\n",
      " \n",
      "Personnel overall: 62\n",
      "Personnel in bad mood: 12\n",
      "Количество поссорившихся пар: 66\n",
      "Затраты на примерение: 33000\n",
      "Доход: 62000\n",
      " \n",
      "Personnel overall: 63\n",
      "Personnel in bad mood: 12\n",
      "Количество поссорившихся пар: 66\n",
      "Затраты на примерение: 33000\n",
      "Доход: 63000\n",
      " \n",
      "Personnel overall: 64\n",
      "Personnel in bad mood: 12\n",
      "Количество поссорившихся пар: 66\n",
      "Затраты на примерение: 33000\n",
      "Доход: 64000\n",
      " \n",
      "Personnel overall: 65\n",
      "Personnel in bad mood: 13\n",
      "Количество поссорившихся пар: 78\n",
      "Затраты на примерение: 39000\n",
      "Доход: 65000\n",
      " \n",
      "Personnel overall: 66\n",
      "Personnel in bad mood: 13\n",
      "Количество поссорившихся пар: 78\n",
      "Затраты на примерение: 39000\n",
      "Доход: 66000\n",
      " \n",
      "Personnel overall: 67\n",
      "Personnel in bad mood: 13\n",
      "Количество поссорившихся пар: 78\n",
      "Затраты на примерение: 39000\n",
      "Доход: 67000\n",
      " \n",
      "Personnel overall: 68\n",
      "Personnel in bad mood: 13\n",
      "Количество поссорившихся пар: 78\n",
      "Затраты на примерение: 39000\n",
      "Доход: 68000\n",
      " \n",
      "Personnel overall: 69\n",
      "Personnel in bad mood: 13\n",
      "Количество поссорившихся пар: 78\n",
      "Затраты на примерение: 39000\n",
      "Доход: 69000\n",
      " \n",
      "Personnel overall: 70\n",
      "Personnel in bad mood: 14\n",
      "Количество поссорившихся пар: 91\n",
      "Затраты на примерение: 45500\n",
      "Доход: 70000\n",
      " \n",
      "Personnel overall: 71\n",
      "Personnel in bad mood: 14\n",
      "Количество поссорившихся пар: 91\n",
      "Затраты на примерение: 45500\n",
      "Доход: 71000\n",
      " \n",
      "Personnel overall: 72\n",
      "Personnel in bad mood: 14\n",
      "Количество поссорившихся пар: 91\n",
      "Затраты на примерение: 45500\n",
      "Доход: 72000\n",
      " \n",
      "Personnel overall: 73\n",
      "Personnel in bad mood: 14\n",
      "Количество поссорившихся пар: 91\n",
      "Затраты на примерение: 45500\n",
      "Доход: 73000\n",
      " \n",
      "Personnel overall: 74\n",
      "Personnel in bad mood: 14\n",
      "Количество поссорившихся пар: 91\n",
      "Затраты на примерение: 45500\n",
      "Доход: 74000\n",
      " \n",
      "Personnel overall: 75\n",
      "Personnel in bad mood: 15\n",
      "Количество поссорившихся пар: 105\n",
      "Затраты на примерение: 52500\n",
      "Доход: 75000\n",
      " \n",
      "Personnel overall: 76\n",
      "Personnel in bad mood: 15\n",
      "Количество поссорившихся пар: 105\n",
      "Затраты на примерение: 52500\n",
      "Доход: 76000\n",
      " \n",
      "Personnel overall: 77\n",
      "Personnel in bad mood: 15\n",
      "Количество поссорившихся пар: 105\n",
      "Затраты на примерение: 52500\n",
      "Доход: 77000\n",
      " \n",
      "Personnel overall: 78\n",
      "Personnel in bad mood: 15\n",
      "Количество поссорившихся пар: 105\n",
      "Затраты на примерение: 52500\n",
      "Доход: 78000\n",
      " \n",
      "Personnel overall: 79\n",
      "Personnel in bad mood: 15\n",
      "Количество поссорившихся пар: 105\n",
      "Затраты на примерение: 52500\n",
      "Доход: 79000\n",
      " \n",
      "Personnel overall: 80\n",
      "Personnel in bad mood: 16\n",
      "Количество поссорившихся пар: 120\n",
      "Затраты на примерение: 60000\n",
      "Доход: 80000\n",
      " \n",
      "Personnel overall: 81\n",
      "Personnel in bad mood: 16\n",
      "Количество поссорившихся пар: 120\n",
      "Затраты на примерение: 60000\n",
      "Доход: 81000\n",
      " \n",
      "Personnel overall: 82\n",
      "Personnel in bad mood: 16\n",
      "Количество поссорившихся пар: 120\n",
      "Затраты на примерение: 60000\n",
      "Доход: 82000\n",
      " \n",
      "Personnel overall: 83\n",
      "Personnel in bad mood: 16\n",
      "Количество поссорившихся пар: 120\n",
      "Затраты на примерение: 60000\n",
      "Доход: 83000\n",
      " \n",
      "Personnel overall: 84\n",
      "Personnel in bad mood: 16\n",
      "Количество поссорившихся пар: 120\n",
      "Затраты на примерение: 60000\n",
      "Доход: 84000\n",
      " \n",
      "Personnel overall: 85\n",
      "Personnel in bad mood: 17\n",
      "Количество поссорившихся пар: 136\n",
      "Затраты на примерение: 68000\n",
      "Доход: 85000\n",
      " \n",
      "Personnel overall: 86\n",
      "Personnel in bad mood: 17\n",
      "Количество поссорившихся пар: 136\n",
      "Затраты на примерение: 68000\n",
      "Доход: 86000\n",
      " \n",
      "Personnel overall: 87\n",
      "Personnel in bad mood: 17\n",
      "Количество поссорившихся пар: 136\n",
      "Затраты на примерение: 68000\n",
      "Доход: 87000\n",
      " \n",
      "Personnel overall: 88\n",
      "Personnel in bad mood: 17\n",
      "Количество поссорившихся пар: 136\n",
      "Затраты на примерение: 68000\n",
      "Доход: 88000\n",
      " \n",
      "Personnel overall: 89\n",
      "Personnel in bad mood: 17\n",
      "Количество поссорившихся пар: 136\n",
      "Затраты на примерение: 68000\n",
      "Доход: 89000\n",
      " \n",
      "Personnel overall: 90\n",
      "Personnel in bad mood: 18\n",
      "Количество поссорившихся пар: 153\n",
      "Затраты на примерение: 76500\n",
      "Доход: 90000\n",
      " \n",
      "Personnel overall: 91\n",
      "Personnel in bad mood: 18\n",
      "Количество поссорившихся пар: 153\n",
      "Затраты на примерение: 76500\n",
      "Доход: 91000\n",
      " \n",
      "Personnel overall: 92\n",
      "Personnel in bad mood: 18\n",
      "Количество поссорившихся пар: 153\n",
      "Затраты на примерение: 76500\n",
      "Доход: 92000\n",
      " \n",
      "Personnel overall: 93\n",
      "Personnel in bad mood: 18\n",
      "Количество поссорившихся пар: 153\n",
      "Затраты на примерение: 76500\n",
      "Доход: 93000\n",
      " \n",
      "Personnel overall: 94\n",
      "Personnel in bad mood: 18\n",
      "Количество поссорившихся пар: 153\n",
      "Затраты на примерение: 76500\n",
      "Доход: 94000\n",
      " \n",
      "Personnel overall: 95\n",
      "Personnel in bad mood: 19\n",
      "Количество поссорившихся пар: 171\n",
      "Затраты на примерение: 85500\n",
      "Доход: 95000\n",
      " \n",
      "Personnel overall: 96\n",
      "Personnel in bad mood: 19\n",
      "Количество поссорившихся пар: 171\n",
      "Затраты на примерение: 85500\n",
      "Доход: 96000\n",
      " \n",
      "Personnel overall: 97\n",
      "Personnel in bad mood: 19\n",
      "Количество поссорившихся пар: 171\n",
      "Затраты на примерение: 85500\n",
      "Доход: 97000\n",
      " \n",
      "Personnel overall: 98\n",
      "Personnel in bad mood: 19\n",
      "Количество поссорившихся пар: 171\n",
      "Затраты на примерение: 85500\n",
      "Доход: 98000\n",
      " \n",
      "Personnel overall: 99\n",
      "Personnel in bad mood: 19\n",
      "Количество поссорившихся пар: 171\n",
      "Затраты на примерение: 85500\n",
      "Доход: 99000\n",
      " \n",
      "Personnel overall: 100\n",
      "Personnel in bad mood: 20\n",
      "Количество поссорившихся пар: 190\n",
      "Затраты на примерение: 95000\n",
      "Доход: 100000\n",
      " \n",
      "Personnel overall: 101\n",
      "Personnel in bad mood: 20\n",
      "Количество поссорившихся пар: 190\n",
      "Затраты на примерение: 95000\n",
      "Доход: 101000\n",
      " \n",
      "Personnel overall: 102\n",
      "Personnel in bad mood: 20\n",
      "Количество поссорившихся пар: 190\n",
      "Затраты на примерение: 95000\n",
      "Доход: 102000\n",
      " \n",
      "Personnel overall: 103\n",
      "Personnel in bad mood: 20\n",
      "Количество поссорившихся пар: 190\n",
      "Затраты на примерение: 95000\n",
      "Доход: 103000\n",
      " \n",
      "Personnel overall: 104\n",
      "Personnel in bad mood: 20\n",
      "Количество поссорившихся пар: 190\n",
      "Затраты на примерение: 95000\n",
      "Доход: 104000\n",
      " \n",
      "Personnel overall: 105\n",
      "Personnel in bad mood: 21\n",
      "Количество поссорившихся пар: 210\n",
      "Затраты на примерение: 105000\n",
      "Доход: 105000\n",
      " \n",
      "Maximum amount of people in the company is: 106\n"
     ]
    }
   ],
   "source": [
    "# Решение задачи 5\n",
    "from math import factorial as fc\n",
    "from math import floor\n",
    "\n",
    "CAKE = 500\n",
    "INCOME = 1000\n",
    "\n",
    "people = 10\n",
    "\n",
    "bad_mood_chance = .2\n",
    "bad_mood_people = floor(people * bad_mood_chance)\n",
    "bad_mood_pairs = fc(bad_mood_people) // (fc(2) * fc(bad_mood_people - 2))\n",
    "\n",
    "profit = people*INCOME\n",
    "losses = bad_mood_pairs * CAKE\n",
    "\n",
    "print(f'Personnel overall: {people}')\n",
    "print(f'Personnel in bad mood: {bad_mood_people}')\n",
    "print(f'Количество поссорившихся пар: {bad_mood_pairs}')\n",
    "print(f'Затраты на примерение: {losses}')\n",
    "print(f'Доход: {profit}')\n",
    "print(' ')\n",
    "\n",
    "while profit > losses:\n",
    "    people += 1\n",
    "    bad_mood_chance = .2\n",
    "    bad_mood_people = floor(people * bad_mood_chance)\n",
    "    bad_mood_pairs = fc(bad_mood_people) // (fc(2) * fc(bad_mood_people - 2))\n",
    "    profit = people*INCOME\n",
    "    losses = bad_mood_pairs * CAKE\n",
    "    print(f'Personnel overall: {people}')\n",
    "    print(f'Personnel in bad mood: {bad_mood_people}')\n",
    "    print(f'Количество поссорившихся пар: {bad_mood_pairs}')\n",
    "    print(f'Затраты на примерение: {losses}')\n",
    "    print(f'Доход: {profit}')\n",
    "    print(' ')\n",
    "    \n",
    "print(f'Maximum amount of people in the company is: {people + 1}')  # ответ на вопрос задачи\n",
    "\n",
    "\n"
   ]
  },
  {
   "cell_type": "markdown",
   "metadata": {},
   "source": [
    "<img src='tfs_s19_math_task7.png'>"
   ]
  },
  {
   "cell_type": "code",
   "execution_count": 2,
   "metadata": {},
   "outputs": [
    {
     "name": "stdout",
     "output_type": "stream",
     "text": [
      "Математическое ожидание для 3 одинаковых значений монеты подряд равно: 14\n"
     ]
    }
   ],
   "source": [
    "# Решение задачи 7\n",
    "\n",
    "COIN_SIDES = 2\n",
    "\n",
    "num_of_tails = 3  # менять в зависимости от дано\n",
    "\n",
    "expectation = sum([COIN_SIDES ** n for n in range(1, num_of_tails + 1)])\n",
    "\n",
    "print(f'Математическое ожидание для {num_of_tails} одинаковых значений монеты подряд равно: {expectation}')"
   ]
  },
  {
   "cell_type": "code",
   "execution_count": null,
   "metadata": {},
   "outputs": [],
   "source": []
  },
  {
   "cell_type": "code",
   "execution_count": 166,
   "metadata": {},
   "outputs": [
    {
     "name": "stdout",
     "output_type": "stream",
     "text": [
      "3.9433687020183116e-06\n"
     ]
    }
   ],
   "source": [
    "# BINOMINAL THEOREM (off-topic):\n",
    "\n",
    "# Example: 72 heads out of 100 fair-coin tosses.\n",
    "from math import factorial\n",
    "\n",
    "\n",
    "number_of_tosses = 100\n",
    "success_tosses = 72\n",
    "probability_of_one_success = 0.5\n",
    "\n",
    "c = factorial(number_of_tosses)/((factorial(success_tosses))*factorial((number_of_tosses-success_tosses)))\n",
    "p = probability_of_one_success ** success_tosses \n",
    "one_minus_p = (1 - probability_of_one_success) ** (number_of_tosses - success_tosses)\n",
    "\n",
    "result = c * p * one_minus_p\n",
    "\n",
    "print(result)"
   ]
  },
  {
   "cell_type": "code",
   "execution_count": null,
   "metadata": {},
   "outputs": [],
   "source": []
  },
  {
   "cell_type": "markdown",
   "metadata": {},
   "source": [
    "TFS autumn 2017: задачи по математике  \n",
    "https://vk.com/topic-123851409_36096287"
   ]
  },
  {
   "cell_type": "markdown",
   "metadata": {},
   "source": [
    "<img src='tfs_a17_math_task2.png'>"
   ]
  },
  {
   "cell_type": "markdown",
   "metadata": {},
   "source": [
    "**Решение задачи Scrum Poker**  \n",
    "\n",
    "\n",
    "По условию задачи получаем, что за каждым столом может быть два знакомых тебе человека и максимум два незнакомых. Таким образом каждый знает 27 человек (30 - 2 незнакомых за столом - 1 он сам = 27).  \n",
    "\n",
    "Число ребер равно половине суммы степеней всех вершин.  \n",
    "Например, если вершин 30 (30 человек)  \n",
    "степеней у каждой вершины 27 (каждый из 30 человек знает 27 человек),  \n",
    "то количество ребер (знакомых пар) будет равняться 30 * 27 / 2 = 405.  \n",
    "\n",
    "Ответ 405 пар.  "
   ]
  },
  {
   "cell_type": "markdown",
   "metadata": {},
   "source": [
    "<img src='tfs_a17_math_task5.png'>"
   ]
  },
  {
   "cell_type": "code",
   "execution_count": 215,
   "metadata": {},
   "outputs": [
    {
     "name": "stdout",
     "output_type": "stream",
     "text": [
      "4478554083\n"
     ]
    }
   ],
   "source": [
    "# Решение задачи Великий комбинатор\n",
    "t = f = s = 1\n",
    "for i in range(25):\n",
    "    t, f, s = t + f, t + f + s, f + s\n",
    "print(f)"
   ]
  },
  {
   "cell_type": "code",
   "execution_count": 299,
   "metadata": {},
   "outputs": [
    {
     "name": "stdout",
     "output_type": "stream",
     "text": [
      "49999\n"
     ]
    }
   ],
   "source": [
    "# Решение задачи Великий комбинатор\n",
    "# попытка решить тупым перебором -- займет ОЧЕНЬ много времени!\n",
    "from random import choice\n",
    "\n",
    "letters = ['t', 'f', 's']\n",
    "no_s = ['t', 'f']\n",
    "no_t = ['s', 'f']\n",
    "\n",
    "lst_of_words = []\n",
    "n = 4478554083\n",
    "\n",
    "while n > 0:\n",
    "    i = 25\n",
    "    lst = []\n",
    "    while i > 0:\n",
    "        if not lst:\n",
    "            lst.append(choice(letters))\n",
    "        elif lst[-1] == 't':\n",
    "            lst.append(choice(no_s))\n",
    "        elif lst[-1] == 's':\n",
    "            lst.append(choice(no_t))\n",
    "        else:         \n",
    "            lst.append(choice(letters))\n",
    "        i -= 1\n",
    "        \n",
    "    word = ''.join(lst)\n",
    "    \n",
    "    \n",
    "    if word not in lst_of_words:\n",
    "        lst_of_words.append(word)\n",
    "    n -= 1\n",
    "\n",
    "    \n",
    "print(len(lst_of_words))"
   ]
  },
  {
   "cell_type": "code",
   "execution_count": null,
   "metadata": {},
   "outputs": [],
   "source": []
  },
  {
   "cell_type": "markdown",
   "metadata": {},
   "source": [
    "TFS Frontend 2017: задачи + разбор  \n",
    "https://vk.com/topic-123851409_35339020"
   ]
  },
  {
   "cell_type": "markdown",
   "metadata": {},
   "source": [
    "<img src='tfs_frontend17_task1.png'>"
   ]
  },
  {
   "cell_type": "code",
   "execution_count": 310,
   "metadata": {},
   "outputs": [
    {
     "name": "stdout",
     "output_type": "stream",
     "text": [
      "4\n",
      "100 5 10 5\n",
      "18\n"
     ]
    }
   ],
   "source": [
    "# 1. Фруктовый ларек\n",
    "n = int(input())  # количество покупок в автомате [1; 50000]\n",
    "money = [int(i) for i in input().split()] # nominal monet [5, 10, 50 or 100]\n",
    "\n",
    "PRICE = 5\n",
    "\n",
    "income = PRICE * n\n",
    "\n",
    "change = sum(money) - income\n",
    "\n",
    "extra_coins = 0\n",
    "for bill in money:\n",
    "    if bill == 5:\n",
    "        extra_coins += 1\n",
    "\n",
    "coins = change // 5 - extra_coins\n",
    "\n",
    "print(coins)"
   ]
  },
  {
   "cell_type": "markdown",
   "metadata": {},
   "source": [
    "<img src='tfs_frontend17_task2.png'>"
   ]
  },
  {
   "cell_type": "code",
   "execution_count": 25,
   "metadata": {},
   "outputs": [
    {
     "name": "stdout",
     "output_type": "stream",
     "text": [
      "15\n",
      " \n",
      "Correct solution!\n"
     ]
    }
   ],
   "source": [
    "# 2. Помочь Игорю\n",
    "inp = '2+5*3-1*2'\n",
    "\n",
    "lst = [i for i in inp]\n",
    "\n",
    "for i in range(len(lst)):\n",
    "    if lst[i] == '*':\n",
    "        ini_len = len(lst)\n",
    "        mult = int(lst[i-1]) * int(lst[i+1])\n",
    "        lst.pop(i-1)\n",
    "        lst.pop(i-1)\n",
    "        lst.pop(i-1)\n",
    "        lst.insert(i-1, mult)\n",
    "        while len(lst) < ini_len:\n",
    "            lst.append(0)\n",
    "\n",
    "sum_ = 0\n",
    "for i in range(len(lst)):\n",
    "    if lst[i] == '+':\n",
    "        sum_ += int(lst[i-1])\n",
    "        sum_ += int(lst[i+1])\n",
    "    elif lst[i] == '-':\n",
    "        sum_ -= int(lst[i+1])\n",
    "\n",
    "print(sum_)\n",
    "\n",
    "\n",
    "print(' ')\n",
    "answer = 2 + 5 * 3 - 1 * 2\n",
    "if sum_ == answer:\n",
    "    print('Correct solution!')"
   ]
  },
  {
   "cell_type": "markdown",
   "metadata": {},
   "source": [
    "<img src='tfs_frontend17_task3.png'>"
   ]
  },
  {
   "cell_type": "code",
   "execution_count": 3,
   "metadata": {},
   "outputs": [
    {
     "name": "stdout",
     "output_type": "stream",
     "text": [
      "Initial field:\n",
      "['S', '*', 'O', '*', '*', '*', '*', '*']\n",
      "['*', '*', '*', '*', '*', '*', '*', 'S']\n",
      "['*', '*', '*', '*', '*', '*', '*', '*']\n",
      "['*', '*', '*', '*', '*', '*', '*', '*']\n",
      "['*', '*', '*', '*', '*', '*', '*', '*']\n",
      "['*', '*', '*', 'O', '*', '*', '*', '*']\n",
      "['*', '*', '*', '*', '*', '*', '*', '*']\n",
      "['*', '*', '*', '*', '*', '*', '*', '*']\n",
      "\n",
      "Field with Slon possible positions:\n",
      "['X', 'X', 'O', 'X', 'X', 'X', 'X', 'X']\n",
      "['X', 'X', 'X', 'X', 'X', 'X', 'X', 'X']\n",
      "['X', '*', '*', '*', '*', '*', '*', 'X']\n",
      "['X', '*', '*', '*', '*', '*', '*', 'X']\n",
      "['X', '*', '*', '*', '*', '*', '*', 'X']\n",
      "['X', '*', '*', 'O', '*', '*', '*', 'X']\n",
      "['X', '*', '*', '*', '*', '*', '*', 'X']\n",
      "['X', '*', '*', '*', '*', '*', '*', 'X']\n",
      "\n",
      "Field with Slon + Officer possible positions:\n",
      "['X', 'X', 'X', 'X', 'X', 'X', 'X', 'X']\n",
      "['X', 'X', 'X', 'X', 'X', 'X', 'X', 'X']\n",
      "['X', '*', '*', '*', 'X', '*', '*', 'X']\n",
      "['X', '*', '*', '*', '*', 'X', '*', 'X']\n",
      "['X', '*', '*', '*', '*', '*', 'X', 'X']\n",
      "['X', '*', '*', 'X', '*', '*', '*', 'X']\n",
      "['X', '*', 'X', '*', 'X', '*', '*', 'X']\n",
      "['X', 'X', '*', '*', '*', 'X', '*', 'X']\n",
      "\n",
      "There are 28 fields for a possible move.\n"
     ]
    }
   ],
   "source": [
    "# CHESS GAME task\n",
    "field = [['S', '*', 'O', '*', '*', '*', '*', '*'],\n",
    "         ['*', '*', '*', '*', '*', '*', '*', 'S'],\n",
    "         ['*', '*', '*', '*', '*', '*', '*', '*'],\n",
    "         ['*', '*', '*', '*', '*', '*', '*', '*'],\n",
    "         ['*', '*', '*', '*', '*', '*', '*', '*'],\n",
    "         ['*', '*', '*', 'O', '*', '*', '*', '*'],\n",
    "         ['*', '*', '*', '*', '*', '*', '*', '*'],\n",
    "         ['*', '*', '*', '*', '*', '*', '*', '*']]\n",
    "print('Initial field:')\n",
    "print(*field, sep='\\n')\n",
    "print('')\n",
    "\n",
    "new_field = []\n",
    "for line in field:\n",
    "    for item in line:\n",
    "        if item == 'S':\n",
    "            repl_line = [i.replace('*', 'X') for i in line]\n",
    "\n",
    "            if repl_line not in new_field:\n",
    "                new_field.append(repl_line)\n",
    "                \n",
    "    if 'S' not in line:\n",
    "        new_field.append(line)\n",
    "\n",
    "idxs = []\n",
    "for line in new_field:\n",
    "    for i in range(len(line)):\n",
    "        if line[i] == 'S':\n",
    "            idxs.append(i)\n",
    "        \n",
    "for line in new_field:    \n",
    "    for idx in idxs:\n",
    "        line.pop(idx)\n",
    "        line.insert(idx, 'X')\n",
    "\n",
    "print('Field with Slon possible positions:') \n",
    "print(*new_field, sep='\\n')\n",
    "print('')\n",
    "\n",
    "idxs_o = []\n",
    "for j in range(len(new_field)):\n",
    "    for i in range(len(new_field[j])):\n",
    "        if new_field[j][i] == 'O':\n",
    "            k = i\n",
    "            for line in new_field[j:]:\n",
    "                line.pop(i)\n",
    "                line.insert(i, 'X')\n",
    "                i -= 1\n",
    "                if i < 0:\n",
    "                    break\n",
    "                    \n",
    "            for line in new_field[j:]:\n",
    "                line.pop(k)\n",
    "                line.insert(k, 'X')\n",
    "                k += 1\n",
    "                if k > len(new_field[j])-1:\n",
    "                    break\n",
    "    \n",
    "print('Field with Slon + Officer possible positions:')             \n",
    "print(*new_field, sep='\\n')\n",
    "print('')\n",
    "\n",
    "sum_ = 0\n",
    "for line in new_field:\n",
    "    sum_ += line.count('*')\n",
    "    \n",
    "print(f'There are {sum_} fields for a possible move.')"
   ]
  },
  {
   "cell_type": "code",
   "execution_count": null,
   "metadata": {},
   "outputs": [],
   "source": []
  },
  {
   "cell_type": "markdown",
   "metadata": {},
   "source": [
    "TFS spring 2018: задачи по математике  \n",
    "https://vk.com/topic-123851409_36974083"
   ]
  },
  {
   "cell_type": "markdown",
   "metadata": {},
   "source": [
    "<img src='tfs_s18_math_task2.png'>"
   ]
  },
  {
   "cell_type": "code",
   "execution_count": 22,
   "metadata": {},
   "outputs": [
    {
     "name": "stdout",
     "output_type": "stream",
     "text": [
      "e = 2.7182818284590455\n",
      "Answer: 172\n"
     ]
    }
   ],
   "source": [
    "# Решение Цена на бирже\n",
    "# Стоимость тинькоина во всех поколениях можно свести к:\n",
    "# 1/1! + 1/2! + 1/3! + ... + 1/n!\n",
    "# что ни что иное как e = 2.71828.., которое по отпределению равно:\n",
    "# 1 + 1/1! + 1/2! + 1/3! + ... + 1/n!\n",
    "# Таким образом, минимальное значение тинькоина в первом поколении,\n",
    "# умноженное на 100 и окргуленное до целых будет равно 172.\n",
    "\n",
    "# how to obtain e = 2.711828\n",
    "from math import factorial\n",
    "\n",
    "sum_ = 0\n",
    "for i in range(100):\n",
    "    sum_ += 1/factorial(i)\n",
    "\n",
    "    \n",
    "print(f'e = {sum_}')\n",
    "print(f'Answer: {(sum_ - 1) * 100:.0f}')"
   ]
  },
  {
   "cell_type": "markdown",
   "metadata": {},
   "source": [
    "<img src='tfs_s18_math_task5.png'>"
   ]
  },
  {
   "cell_type": "code",
   "execution_count": 157,
   "metadata": {},
   "outputs": [],
   "source": [
    "# Решение \"Все равно\"\n",
    "# Каждый час таких положений будет 11 (00:05 -- 01:00, 00:10 -- 02:00 и т.д)\n",
    "# В один период (например AM) входит 12 часов.\n",
    "# Таким образом мы не сможем различать время 11*12 = 132 раза!!!"
   ]
  },
  {
   "cell_type": "markdown",
   "metadata": {},
   "source": [
    "<img src='tfs_s18_math_task6.png'>"
   ]
  },
  {
   "cell_type": "code",
   "execution_count": 33,
   "metadata": {},
   "outputs": [
    {
     "name": "stdout",
     "output_type": "stream",
     "text": [
      "Hipe numbers are: [6, 8, 12]\n",
      "The product of hipe numbers is: 576\n"
     ]
    }
   ],
   "source": [
    "# Решение \"Пошумим\"\n",
    "from functools import reduce\n",
    "\n",
    "\n",
    "max_num = 1000\n",
    "\n",
    "int_del = []\n",
    "hipe_num = []\n",
    "count = 0\n",
    "for i in range(1, max_num + 1):\n",
    "    for k in range(1, max_num + 1):\n",
    "        if i % k == 0 and (k != i and k != 1):\n",
    "            int_del.append(k)\n",
    "    if len(int_del) >= 2:\n",
    "        #print(i, int_del)\n",
    "        substr = []\n",
    "        for item in int_del:\n",
    "            for item2 in int_del:\n",
    "                if item - item2 != 0:\n",
    "                    substr.append(item - item2)\n",
    "        #print(substr)\n",
    "        for num in substr:\n",
    "            if i % num != 0:\n",
    "                continue\n",
    "            else:\n",
    "                count += 1\n",
    "                \n",
    "        if count == len(substr):\n",
    "            if i not in hipe_num:\n",
    "                hipe_num.append(i)   \n",
    "                \n",
    "    int_del.clear()\n",
    "    count = 0\n",
    "        \n",
    "print(f'Hipe numbers are: {hipe_num}')    \n",
    "        \n",
    "    \n",
    "def multiply(a, b):\n",
    "    return a * b\n",
    "\n",
    "\n",
    "prod = reduce(multiply, hipe_num)\n",
    "print(f'The product of hipe numbers is: {prod}')        "
   ]
  },
  {
   "cell_type": "markdown",
   "metadata": {},
   "source": [
    "<img src='tfs_s18_math_task7.png'>"
   ]
  },
  {
   "cell_type": "code",
   "execution_count": 44,
   "metadata": {},
   "outputs": [
    {
     "name": "stdout",
     "output_type": "stream",
     "text": [
      "Unicorn is telling the truth and has 6 donuts.\n"
     ]
    }
   ],
   "source": [
    "# Решение \"Единороги и пончики\"\n",
    "# Существа называютс разное суммарное количество пончиков, \n",
    "# но ведь правда может быть только одна, значит суммарное количество \n",
    "# пончиков у существ состоит из трех существ по 7 пончиков и одного \n",
    "# правдивого существа с 6 или 8 пончиками. Дальше проверяем каждую сумму, \n",
    "# вычитая из нее 6 или 8, получим мы 21 (3*7) или нет. \n",
    "# Какая сумма будет давать верный результат, значит то существо и не врет \n",
    "# и заодно мы узнаем количество пончиков у единорога.\n",
    "\n",
    "creatures = {'hydra': 25,\n",
    "             'sphinx': 26,\n",
    "             'unicorn': 27,\n",
    "             'narwhale': 28}\n",
    "\n",
    "for creature in creatures:\n",
    "    for num in [6, 8]:\n",
    "        if creatures[creature] - num == 21:\n",
    "            if creature == 'unicorn':\n",
    "                print(f'{creature.title()} is telling the truth and has {num} donuts.')\n",
    "            else:\n",
    "                print(f'{creature.title()} is telling the truth. Thus, unicorn has 7 donuts.')"
   ]
  },
  {
   "cell_type": "code",
   "execution_count": null,
   "metadata": {},
   "outputs": [],
   "source": []
  },
  {
   "cell_type": "markdown",
   "metadata": {},
   "source": [
    "TFS spring 2019: программирование  \n",
    "https://vk.com/topic-123851409_39528274"
   ]
  },
  {
   "cell_type": "markdown",
   "metadata": {},
   "source": [
    "<img src='tfs_spr19_coding_task1.png'>"
   ]
  },
  {
   "cell_type": "code",
   "execution_count": 221,
   "metadata": {},
   "outputs": [
    {
     "name": "stdout",
     "output_type": "stream",
     "text": [
      "88\n",
      "Number of palindrome numbers in numbers less than 88 is: 17\n"
     ]
    }
   ],
   "source": [
    "# TASK 1\n",
    "inp = (input())\n",
    "#inp = 88\n",
    "lst = [*range(1, int(inp) + 1)]\n",
    "inp_str = str(inp)\n",
    "lst_str = [str(i) for i in lst]\n",
    "\n",
    "count = 0\n",
    "for item in lst_str:\n",
    "    if item == item[::-1]:\n",
    "        count += 1\n",
    "            \n",
    "\n",
    "print(f'Number of palindrome numbers in numbers less than {inp} is: {count}')"
   ]
  },
  {
   "cell_type": "markdown",
   "metadata": {},
   "source": [
    "<img src='tfs_spr19_coding_task2.png'>"
   ]
  },
  {
   "cell_type": "code",
   "execution_count": 46,
   "metadata": {},
   "outputs": [
    {
     "name": "stdout",
     "output_type": "stream",
     "text": [
      "s\n"
     ]
    }
   ],
   "source": [
    "# TASK 2\n",
    "inp = 'sos'\n",
    "letters = [i for i in inp]\n",
    "\n",
    "\n",
    "frequent_letters = []\n",
    "for letter in letters:\n",
    "    if inp.count(letter) > 1:\n",
    "        if letter not in frequent_letters:\n",
    "            frequent_letters.append(letter)\n",
    "        \n",
    "print(*frequent_letters, sep='')"
   ]
  },
  {
   "cell_type": "markdown",
   "metadata": {},
   "source": [
    "<img src='tfs_spr19_coding_task4.png'>"
   ]
  },
  {
   "cell_type": "code",
   "execution_count": 48,
   "metadata": {},
   "outputs": [
    {
     "name": "stdout",
     "output_type": "stream",
     "text": [
      "???\n",
      "0\n"
     ]
    }
   ],
   "source": [
    "# TASK 4\n",
    "from random import choice\n",
    "from math import factorial\n",
    "\n",
    "\n",
    "\n",
    "def right(s):\n",
    "    count = 0\n",
    "    for i in range(len(s)):\n",
    "        if s[i] == '(':\n",
    "            count += 1\n",
    "        elif s[i] == ')':\n",
    "            count -= 1\n",
    "            if count < 0:\n",
    "                return False\n",
    "    if count == 0:\n",
    "        return True\n",
    "    else:\n",
    "        return False\n",
    "\n",
    "\n",
    "def substitute(inp):\n",
    "    brackets = ['(', ')']\n",
    "    if '?' in inp:\n",
    "        lst = [i for i in inp]\n",
    "        num_wildcards = lst.count('?')\n",
    "        \n",
    "        if num_wildcards <= 2:\n",
    "            condition = 2 * factorial(num_wildcards)\n",
    "        elif num_wildcards == 3:\n",
    "            condition = factorial(num_wildcards)\n",
    "        else:\n",
    "            condition = 2 ** num_wildcards\n",
    "        \n",
    "        options = []\n",
    "        while len(options) != condition:\n",
    "            new_lst = []\n",
    "            for item in lst:\n",
    "                if item == '?':\n",
    "                    item = choice(brackets)\n",
    "                    new_lst.append(item)\n",
    "                else:\n",
    "                    new_lst.append(item)\n",
    "            if new_lst not in options:\n",
    "                options.append(new_lst)\n",
    "        return options\n",
    "    \n",
    "    else:\n",
    "        return [inp]\n",
    "                                     \n",
    "        \n",
    "def main(user_inp):\n",
    "    solutions = 0\n",
    "    variants = substitute(user_inp)\n",
    "    for var in variants:\n",
    "        if right(var) == True:\n",
    "            solutions +=1\n",
    "    print(solutions)\n",
    "            \n",
    "    \n",
    "if __name__ == '__main__':\n",
    "    main(input())"
   ]
  },
  {
   "cell_type": "markdown",
   "metadata": {},
   "source": [
    "<img src='tfs_spr19_coding_task5.png'>"
   ]
  },
  {
   "cell_type": "code",
   "execution_count": 45,
   "metadata": {},
   "outputs": [
    {
     "name": "stdout",
     "output_type": "stream",
     "text": [
      "10\n",
      "3\n",
      "8 10\n",
      "2 9\n",
      "1 3\n",
      "1\n"
     ]
    }
   ],
   "source": [
    "# TASK 5\n",
    "num_cells = int(input())\n",
    "num_messages = int(input())\n",
    "messages = [i.split() for i in [input() for _ in range(num_messages)]]\n",
    "\n",
    "notebook = ['x' for _ in range(num_cells)]\n",
    "\n",
    "for msg in messages:\n",
    "    msg = [int(i) for i in msg]\n",
    "    start, end = msg[0] - 1, msg[1] -1 \n",
    "    msg_len = [*range(start, end + 1)]\n",
    "    for i in range(len(notebook)):\n",
    "        if i in msg_len:\n",
    "            notebook.pop(i)\n",
    "            notebook.insert(i, '*')\n",
    "\n",
    "\n",
    "\n",
    "notebook_for_count = notebook[1:-1]\n",
    "num_of_msg = notebook_for_count.count('x') + 1\n",
    "\n",
    "print(num_of_msg)"
   ]
  },
  {
   "cell_type": "markdown",
   "metadata": {},
   "source": [
    "<img src='tfs_spr19_coding_task7.png'>"
   ]
  },
  {
   "cell_type": "code",
   "execution_count": 49,
   "metadata": {},
   "outputs": [
    {
     "name": "stdout",
     "output_type": "stream",
     "text": [
      "10 19\n",
      "3\n"
     ]
    }
   ],
   "source": [
    "# TASK 7\n",
    "start, stop = (int(i) for i in input().split())\n",
    "\n",
    "add = 3\n",
    "mult = 4\n",
    "\n",
    "count = 0\n",
    "while stop > start:\n",
    "    if stop % mult == 0 and stop / mult >= start:\n",
    "        stop /= mult\n",
    "        count += 1\n",
    "    else:\n",
    "        stop -= add\n",
    "        if stop < start:\n",
    "            count = -1\n",
    "            break\n",
    "        count += 1\n",
    "\n",
    "        \n",
    "print(count)"
   ]
  },
  {
   "cell_type": "code",
   "execution_count": null,
   "metadata": {},
   "outputs": [],
   "source": []
  },
  {
   "cell_type": "markdown",
   "metadata": {},
   "source": [
    "TFS spring 2018: задачи по программированию  \n",
    "https://vk.com/topic-123851409_36974091"
   ]
  },
  {
   "cell_type": "markdown",
   "metadata": {},
   "source": [
    "<img src='tfs_spr18_coding_task1.png'>"
   ]
  },
  {
   "cell_type": "code",
   "execution_count": 23,
   "metadata": {},
   "outputs": [
    {
     "name": "stdout",
     "output_type": "stream",
     "text": [
      "44 10\n",
      "7\n"
     ]
    }
   ],
   "source": [
    "# Task 1\n",
    "total_now, a_now = (int(i) for i in input().split())\n",
    "a_now_ini = a_now\n",
    "\n",
    "while a_now != total_now / 3:\n",
    "    a_now += 1\n",
    "    total_now += 1\n",
    "    \n",
    "print(a_now - a_now_ini)"
   ]
  },
  {
   "cell_type": "markdown",
   "metadata": {},
   "source": [
    "<img src='tfs_spr18_coding_task2.png'>"
   ]
  },
  {
   "cell_type": "code",
   "execution_count": 56,
   "metadata": {},
   "outputs": [
    {
     "name": "stdout",
     "output_type": "stream",
     "text": [
      "Tinkoff Fintech School!\n"
     ]
    }
   ],
   "source": [
    "# TASK 2\n",
    "import string\n",
    "\n",
    "\n",
    "#inp = input()\n",
    "inp = 'Mbgdhyy Ybgmxva Lvahhe!'\n",
    "punct_signs = string.punctuation\n",
    "alpha = string.ascii_lowercase\n",
    "\n",
    "punct_dict = {}\n",
    "for idx, punct in enumerate(punct_signs):\n",
    "    if punct in inp:\n",
    "        idx = inp.index(punct)\n",
    "        inp = inp.replace('!', '')\n",
    "        punct_dict[idx] = punct\n",
    "\n",
    "max_len = len(max(inp.split()))\n",
    "\n",
    "coded_inp = []\n",
    "upper_idx = []\n",
    "for indx, letter in enumerate(inp):\n",
    "    if letter == letter.upper() and letter != ' ':\n",
    "        upper_idx.append(indx)\n",
    "    if letter.lower() in alpha:\n",
    "        seq = alpha.index(letter.lower()) + max_len\n",
    "        if seq <= 26:\n",
    "            coded_inp.append(alpha[seq])\n",
    "        else:\n",
    "            seq -= 26\n",
    "            coded_inp.append(alpha[seq])\n",
    "    if letter == ' ':\n",
    "        coded_inp.append(letter)\n",
    "    \n",
    "\n",
    "for key, val in punct_dict.items():\n",
    "    coded_inp.insert(key, val)\n",
    "\n",
    "    \n",
    "for num in upper_idx:\n",
    "    coded_inp[num] = coded_inp[num].upper()\n",
    "    \n",
    "result = ''.join(coded_inp)    \n",
    "\n",
    "print(result)"
   ]
  },
  {
   "cell_type": "code",
   "execution_count": null,
   "metadata": {},
   "outputs": [],
   "source": []
  },
  {
   "cell_type": "code",
   "execution_count": null,
   "metadata": {},
   "outputs": [],
   "source": []
  },
  {
   "cell_type": "code",
   "execution_count": null,
   "metadata": {},
   "outputs": [],
   "source": []
  }
 ],
 "metadata": {
  "kernelspec": {
   "display_name": "Python 3",
   "language": "python",
   "name": "python3"
  },
  "language_info": {
   "codemirror_mode": {
    "name": "ipython",
    "version": 3
   },
   "file_extension": ".py",
   "mimetype": "text/x-python",
   "name": "python",
   "nbconvert_exporter": "python",
   "pygments_lexer": "ipython3",
   "version": "3.7.6"
  }
 },
 "nbformat": 4,
 "nbformat_minor": 4
}
